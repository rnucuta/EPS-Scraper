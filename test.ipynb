{
 "cells": [
  {
   "cell_type": "code",
   "execution_count": 52,
   "metadata": {},
   "outputs": [],
   "source": [
    "from sec_parser.processing_steps import AbstractProcessingStep\n",
    "from sec_parser.processing_engine import AbstractSemanticElementParser\n",
    "from sec_parser import Edgar10QParser\n",
    "\n",
    "import bs4\n",
    "\n",
    "from sec_parser.semantic_elements import (\n",
    "    TextElement,\n",
    "    TableElement,\n",
    "    TitleElement,\n",
    "    TopSectionTitle,\n",
    "    NotYetClassifiedElement,\n",
    "    ImageElement\n",
    ")\n",
    "\n",
    "class MyClassifier(AbstractProcessingStep):\n",
    "    def __init__(self):\n",
    "        super().__init__()\n",
    "        # You can hold state in your processing steps\n",
    "        self.processed_tags_count = 0\n",
    "\n",
    "    # This method must be implemented when inheriting from AbstractProcessingStep\n",
    "    def _process(self, elements):\n",
    "        parsed = []\n",
    "        for e in elements:\n",
    "            self.processed_tags_count += 1\n",
    "            if e.html_tag.name == \"b\":\n",
    "                parsed.append(TitleElement.create_from_element(e, \"\"))\n",
    "            elif e.html_tag.name == \"p\":\n",
    "                parsed.append(TextElement.create_from_element(e, \"\"))\n",
    "            else:\n",
    "                parsed.append(e)\n",
    "        print(\n",
    "            f\"MyClassifier: Successfully processed {self.processed_tags_count} tags!\\n\"\n",
    "        )\n",
    "        return parsed"
   ]
  },
  {
   "cell_type": "code",
   "execution_count": null,
   "metadata": {},
   "outputs": [],
   "source": [
    "from sec_parser.semantic_elements import CompositeSemanticElement\n",
    "\n",
    "class CompositeElementIdentificationStep(AbstractProcessingStep):\n",
    "    def _process(self, elements):\n",
    "        result = []\n",
    "        for e in elements:\n",
    "            if e.html_tag.name == \"div\":\n",
    "                result.append(\n",
    "                    CompositeSemanticElement.create_from_element(\n",
    "                        e,\n",
    "                        inner_elements=[\n",
    "                            NotYetClassifiedElement(t)\n",
    "                            for t in e.html_tag.get_children()\n",
    "                        ],\n",
    "                        log_origin=\"CompositeElementIdentificationStep\",\n",
    "                    )\n",
    "                )\n",
    "            else:\n",
    "                result.append(e)\n",
    "        return result\n",
    "\n",
    "def show(elements):\n",
    "    for element in elements:\n",
    "        text = element.text[:10]\n",
    "        if hasattr(element, \"inner_elements\"):\n",
    "            print(f\"{element} (has {len(element.inner_elements)} elements inside)\")\n",
    "        elif text:\n",
    "            print(f\"{element} (text: {text}...)\")\n",
    "        else:\n",
    "            print(f\"{element}\")\n",
    "\n",
    "\n",
    "def get_steps():\n",
    "    return [\n",
    "        CompositeElementIdentificationStep(),\n",
    "        MyClassifier(),\n",
    "    ]\n",
    "\n"
   ]
  },
  {
   "cell_type": "code",
   "execution_count": 78,
   "metadata": {},
   "outputs": [],
   "source": [
    "with open('./Training_Filings/0001299709-20-000078.html', 'r', encoding='utf-8') as file:\n",
    "    html = file.read()\n",
    "    html = bs4.BeautifulSoup(html, features = 'lxml').find('text').decode_contents()"
   ]
  },
  {
   "cell_type": "code",
   "execution_count": 80,
   "metadata": {},
   "outputs": [
    {
     "name": "stdout",
     "output_type": "stream",
     "text": [
      "MyClassifier: Successfully processed 1 tags!\n",
      "\n",
      "[NotYetClassifiedElement<div>]\n"
     ]
    }
   ],
   "source": [
    "parser = Edgar10QParser(get_steps)\n",
    "elements = parser.parse(html)\n",
    "show(elements)"
   ]
  },
  {
   "cell_type": "code",
   "execution_count": 79,
   "metadata": {},
   "outputs": [
    {
     "ename": "AttributeError",
     "evalue": "'str' object has no attribute 'text'",
     "output_type": "error",
     "traceback": [
      "\u001b[0;31m---------------------------------------------------------------------------\u001b[0m",
      "\u001b[0;31mAttributeError\u001b[0m                            Traceback (most recent call last)",
      "Cell \u001b[0;32mIn[79], line 1\u001b[0m\n\u001b[0;32m----> 1\u001b[0m \u001b[38;5;28mprint\u001b[39m(\u001b[43mhtml\u001b[49m\u001b[38;5;241;43m.\u001b[39;49m\u001b[43mtext\u001b[49m)\n",
      "\u001b[0;31mAttributeError\u001b[0m: 'str' object has no attribute 'text'"
     ]
    }
   ],
   "source": [
    "from sec_parser.processing_steps import AbstractElementwiseProcessingStep\n",
    "\n",
    "\n",
    "class BetterClassifier(AbstractElementwiseProcessingStep):\n",
    "    def _process_element(self, element, context):\n",
    "        if element.html_tag.name == \"b\":\n",
    "            return TitleElement.create_from_element(element, \"\")\n",
    "        elif element.html_tag.name == \"p\":\n",
    "            return TextElement.create_from_element(element, \"\")\n",
    "        elif element.html_tag.name == \"img\":\n",
    "            return ImageElement.create_from_element(element, \"\")\n",
    "        return element\n",
    "\n"
   ]
  }
 ],
 "metadata": {
  "kernelspec": {
   "display_name": "Python 3",
   "language": "python",
   "name": "python3"
  },
  "language_info": {
   "codemirror_mode": {
    "name": "ipython",
    "version": 3
   },
   "file_extension": ".py",
   "mimetype": "text/x-python",
   "name": "python",
   "nbconvert_exporter": "python",
   "pygments_lexer": "ipython3",
   "version": "3.11.0rc1"
  }
 },
 "nbformat": 4,
 "nbformat_minor": 2
}
